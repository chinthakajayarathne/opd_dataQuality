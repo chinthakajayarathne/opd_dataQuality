{
 "cells": [
  {
   "cell_type": "code",
   "execution_count": null,
   "metadata": {},
   "outputs": [],
   "source": [
    "import pymysql\n",
    "import os\n",
    "import pymysql\n",
    "from pymysql.cursors import DictCursor, SSCursor  # DictCursor = nice columns; SSCursor = stream big results\n",
    "import pandas as pd"
   ]
  },
  {
   "cell_type": "code",
   "execution_count": null,
   "metadata": {},
   "outputs": [],
   "source": [
    "# Connection parameters\n",
    "host = 'localhost'\n",
    "port = 3307  # Replace with the correct port number\n",
    "user = 'hhims'\n",
    "password = 'JudbGaQLG!7bpJG6'\n",
    "database = 'hhimsv3'\n",
    "\n",
    "# Establish a connection\n",
    "connection = pymysql.connect(\n",
    "    host=host,\n",
    "    port=port,\n",
    "    user=user,\n",
    "    password=password,\n",
    "    database=database,\n",
    "    charset=\"utf8mb4\",  \n",
    "    cursorclass=DictCursor,\n",
    "    autocommit=True, \n",
    "    connect_timeout=10\n",
    ")"
   ]
  },
  {
   "cell_type": "code",
   "execution_count": null,
   "metadata": {},
   "outputs": [],
   "source": [
    "\n",
    "# Tip: utf8mb4 + timezone handling (if needed)\n",
    "conn = pymysql.connect(\n",
    "    host=host, port=port, user=user, password=password, database=database,\n",
    "    charset=\"utf8mb4\", cursorclass=DictCursor, autocommit=True, connect_timeout=10\n",
    ")\n",
    "\n",
    "try:\n",
    "    with conn.cursor() as cur:\n",
    "        # Avoid SELECT * in analytics code; name the columns you actually need\n",
    "        cur.execute(\"\"\"\n",
    "            SELECT OPDID,Complaint,Doctor,YEAR (DateTimeOfVisit) AS visit_year ,DATE (DateTimeOfVisit) AS visit_date\n",
    "            FROM opd_visits\n",
    "            \n",
    "        \"\"\")\n",
    "        rows = cur.fetchall()\n",
    "        #print(\"Top 5 rows:\")\n",
    "        #for r in rows:\n",
    "        #    print(r)\n",
    "\n",
    "    # Direct to pandas with proper column names (thanks to DictCursor)\n",
    "    df = pd.DataFrame(rows)\n",
    "    \n",
    "    # Or let pandas pull straight from the connection:\n",
    "    # df = pd.read_sql(\"SELECT OPDID, PID, DateTimeOfVisit FROM opd_visits LIMIT 5\", conn)\n",
    "\n",
    "finally:\n",
    "    conn.close()\n"
   ]
  },
  {
   "cell_type": "code",
   "execution_count": null,
   "metadata": {},
   "outputs": [],
   "source": [
    "df.head()"
   ]
  },
  {
   "cell_type": "code",
   "execution_count": 112,
   "metadata": {},
   "outputs": [],
   "source": [
    "# write df to csv\n",
    "#df.to_csv(\"opd_visits_data.csv\", index=False)\n",
    "df = pd.read_csv(\"opd_visits_data.csv\")"
   ]
  },
  {
   "cell_type": "code",
   "execution_count": 128,
   "metadata": {},
   "outputs": [
    {
     "data": {
      "text/html": [
       "<div>\n",
       "<style scoped>\n",
       "    .dataframe tbody tr th:only-of-type {\n",
       "        vertical-align: middle;\n",
       "    }\n",
       "\n",
       "    .dataframe tbody tr th {\n",
       "        vertical-align: top;\n",
       "    }\n",
       "\n",
       "    .dataframe thead th {\n",
       "        text-align: right;\n",
       "    }\n",
       "</style>\n",
       "<table border=\"1\" class=\"dataframe\">\n",
       "  <thead>\n",
       "    <tr style=\"text-align: right;\">\n",
       "      <th></th>\n",
       "      <th>OPDID</th>\n",
       "      <th>Complaint</th>\n",
       "      <th>Doctor</th>\n",
       "      <th>visit_year</th>\n",
       "      <th>visit_date</th>\n",
       "      <th>refined_rfe</th>\n",
       "    </tr>\n",
       "  </thead>\n",
       "  <tbody>\n",
       "    <tr>\n",
       "      <th>0</th>\n",
       "      <td>1</td>\n",
       "      <td>Blood test,</td>\n",
       "      <td>2</td>\n",
       "      <td>2021</td>\n",
       "      <td>2021-08-19</td>\n",
       "      <td>Blood test,</td>\n",
       "    </tr>\n",
       "  </tbody>\n",
       "</table>\n",
       "</div>"
      ],
      "text/plain": [
       "   OPDID    Complaint  Doctor  visit_year  visit_date  refined_rfe\n",
       "0      1  Blood test,       2        2021  2021-08-19  Blood test,"
      ]
     },
     "execution_count": 128,
     "metadata": {},
     "output_type": "execute_result"
    }
   ],
   "source": [
    "df.head(1)"
   ]
  },
  {
   "cell_type": "code",
   "execution_count": 113,
   "metadata": {},
   "outputs": [
    {
     "data": {
      "text/plain": [
       "935667"
      ]
     },
     "execution_count": 113,
     "metadata": {},
     "output_type": "execute_result"
    }
   ],
   "source": [
    "len(df)"
   ]
  },
  {
   "cell_type": "code",
   "execution_count": null,
   "metadata": {},
   "outputs": [],
   "source": [
    "Cough = [\"Cough,\",\"Cough\",\"c\",\"Fever,Cough,\",\"cold\",\"cough 3d\",\"COUGH 2D\",\"cough,Fever,\",\"Cough,acute nasopharyngitis (common cold),\",\n",
    "         \"cough 1d\",\"Cough 1w\",\"F,C\",\"cough 4d\",\"cough,cold\",\"Sneezing/nasal congestion,\",\"fever , cough\",\n",
    "         \"cough 5d\",\"cough and cold\",\"cough,sob\",\"ough\",\"caugh cold\",\"c,c\",\"cough 3 days\",\"cough 1 week\",\n",
    "         \"cough sob\"]"
   ]
  },
  {
   "cell_type": "code",
   "execution_count": 131,
   "metadata": {},
   "outputs": [],
   "source": [
    "Fever = [\"Fever,\",\"Fever,Cough,\",\"fever\",\"fever 1D\",\"f1d\",\"F\",\"fever 3d\",\"f 1D\",\"fever1d\",\n",
    "         \"fever 2d\",\"f3d\",\"fever d 1,cough\",\"fever 4d\",\"fever3d\",\"Fever,3d\",\"fever4D\",\"Fever,acute nasopharyngitis (common cold),\",\n",
    "         \"fever d 1\",\"fever2d\",\"fever d 3,cough\",\"F,C\",\"Fever,1d\",\"fever 3 days\",\"fever , cough\",\n",
    "         \"fever 1 day\",\"fever,Vomiting,\",\"fever 5D\",\"fever,cough 1d\",\"fev1d\",\"fever 1 d\",\n",
    "         \"fever,cough\",\"fever 4 days\",\"Fever,3d,Cough,\",\"F 2d\",\"Fever,1d,Cough,\",\"Fever,4d\",\"fever 3 d\",\n",
    "         \"Fever,3d\",\"fever4D\",\"Fever,acute nasopharyngitis (common cold),\",\"fever d 1\",\"fever2d\",\n",
    "         \"fever d 3,cough\",\"F,C\",\"Fever,1d\",\"fever 3 days\",\"fever d 3\",\"fever , cough\",\"fever 1 day\",\n",
    "         \"fever,Vomiting,\",\"fever 5D\",\"fever,cough 1d\",\"fev1d\",\"fever 1 d\",\"fever,cough\",\n",
    "         \"fever 4 days\",\"Fever,3d,Cough,\",\"F 2d\",\"Fever,1d,Cough,\",\"Fever,4d\",\"fever 3 d\",\n",
    "         \"fever cough\",]"
   ]
  },
  {
   "cell_type": "code",
   "execution_count": 147,
   "metadata": {},
   "outputs": [],
   "source": [
    "Trauma = [\"Trauma/injury NOS,\",\"trauma\",\n",
    "        \"Blunt trauma,\",\"TRAUMA TO HEAD\"]"
   ]
  },
  {
   "cell_type": "code",
   "execution_count": 148,
   "metadata": {},
   "outputs": [],
   "source": [
    "Fall = [\"Fall on ground,\",\"H/O fall\",\"Fall from height,\",\"HO FALL\",\"H/O  FALL\",]"
   ]
  },
  {
   "cell_type": "code",
   "execution_count": null,
   "metadata": {},
   "outputs": [],
   "source": []
  },
  {
   "cell_type": "code",
   "execution_count": null,
   "metadata": {},
   "outputs": [],
   "source": [
    "# Rash and dermat conditions"
   ]
  },
  {
   "cell_type": "code",
   "execution_count": null,
   "metadata": {},
   "outputs": [],
   "source": [
    "Rash = [\"Rash localized,\",\"rash\",\"skin\",\"Rash generalized,\",\"skin rash\"]"
   ]
  },
  {
   "cell_type": "code",
   "execution_count": null,
   "metadata": {},
   "outputs": [],
   "source": [
    "#Animal_trauma = [\"dog bite\",\"Cat scratch\",\"Animal bite,\",\"cat bite\",\"rat bite\"]"
   ]
  },
  {
   "cell_type": "code",
   "execution_count": 150,
   "metadata": {},
   "outputs": [],
   "source": [
    "abdominal_pain = [\"abd pain\",\"ab pain\",\n",
    "      \"abdominal pain\",\"abd.pain\",\"abd. pain\"]"
   ]
  },
  {
   "cell_type": "code",
   "execution_count": 136,
   "metadata": {},
   "outputs": [],
   "source": [
    "Wheezing = [\"wheezing\",\"Wheezing,\"]"
   ]
  },
  {
   "cell_type": "code",
   "execution_count": null,
   "metadata": {},
   "outputs": [],
   "source": [
    "#Eye_symptoms = [\"eye\",\"poor vision\",\"Red eye,\",\"squint\",\"Eye pain,\"]"
   ]
  },
  {
   "cell_type": "code",
   "execution_count": 118,
   "metadata": {},
   "outputs": [
    {
     "data": {
      "text/html": [
       "<div>\n",
       "<style scoped>\n",
       "    .dataframe tbody tr th:only-of-type {\n",
       "        vertical-align: middle;\n",
       "    }\n",
       "\n",
       "    .dataframe tbody tr th {\n",
       "        vertical-align: top;\n",
       "    }\n",
       "\n",
       "    .dataframe thead th {\n",
       "        text-align: right;\n",
       "    }\n",
       "</style>\n",
       "<table border=\"1\" class=\"dataframe\">\n",
       "  <thead>\n",
       "    <tr style=\"text-align: right;\">\n",
       "      <th></th>\n",
       "      <th>OPDID</th>\n",
       "      <th>Complaint</th>\n",
       "      <th>Doctor</th>\n",
       "      <th>visit_year</th>\n",
       "      <th>visit_date</th>\n",
       "    </tr>\n",
       "  </thead>\n",
       "  <tbody>\n",
       "    <tr>\n",
       "      <th>0</th>\n",
       "      <td>1</td>\n",
       "      <td>Blood test,</td>\n",
       "      <td>2</td>\n",
       "      <td>2021</td>\n",
       "      <td>2021-08-19</td>\n",
       "    </tr>\n",
       "  </tbody>\n",
       "</table>\n",
       "</div>"
      ],
      "text/plain": [
       "   OPDID    Complaint  Doctor  visit_year  visit_date\n",
       "0      1  Blood test,       2        2021  2021-08-19"
      ]
     },
     "execution_count": 118,
     "metadata": {},
     "output_type": "execute_result"
    }
   ],
   "source": [
    "df.head(1)"
   ]
  },
  {
   "cell_type": "code",
   "execution_count": 161,
   "metadata": {},
   "outputs": [],
   "source": [
    "# clean steps simples comma\n",
    "df['Complaint'] = df['Complaint'].str.lower()\n",
    "df['refined_rfe'] = df['refined_rfe'].str.rstrip(',')  \n",
    "\n"
   ]
  },
  {
   "cell_type": "code",
   "execution_count": 162,
   "metadata": {},
   "outputs": [
    {
     "name": "stderr",
     "output_type": "stream",
     "text": [
      "C:\\Users\\Chinthaka\\AppData\\Local\\Temp\\ipykernel_18156\\488917506.py:4: UserWarning: This pattern is interpreted as a regular expression, and has match groups. To actually get the groups, use str.extract.\n",
      "  df.loc[df['Complaint'].str.contains('|'.join(Cough), case=False, na=False), 'refined_rfe'] = \"cough\"\n",
      "C:\\Users\\Chinthaka\\AppData\\Local\\Temp\\ipykernel_18156\\488917506.py:5: UserWarning: This pattern is interpreted as a regular expression, and has match groups. To actually get the groups, use str.extract.\n",
      "  df.loc[df['Complaint'].str.contains('|'.join(Fever), case=False, na=False), 'refined_rfe'] = \"fever\"\n"
     ]
    }
   ],
   "source": [
    "# refine for all above complaints\n",
    "df['refined_rfe'] = df['Complaint']  # start by copying original column\n",
    "\n",
    "df.loc[df['Complaint'].str.contains('|'.join(Cough), case=False, na=False), 'refined_rfe'] = \"cough\"\n",
    "df.loc[df['Complaint'].str.contains('|'.join(Fever), case=False, na=False), 'refined_rfe'] = \"fever\"\n",
    "df.loc[df['Complaint'].str.contains('|'.join(Fall), case=False, na=False), 'refined_rfe'] = \"fall\"\n",
    "df.loc[df['Complaint'].str.contains('|'.join(Rash), case=False, na=False), 'refined_rfe'] = \"rash\"\n",
    "#df.loc[df['Complaint'].str.contains('|'.join(Animal_trauma), case=False, na=False), 'refined_rfe'] = \"animal trauma\"\n",
    "df.loc[df['Complaint'].str.contains('|'.join(abdominal_pain), case=False, na=False), 'refined_rfe'] = \"abdominal pain\"\n",
    "df.loc[df['Complaint'].str.contains('|'.join(Wheezing), case=False, na=False), 'refined_rfe'] = \"wheezing\"\n",
    "#df.loc[df['Complaint'].str.contains('|'.join(Eye_symptoms), case=False, na=False), 'refined_rfe'] = \"eye symptoms\"\n",
    "    "
   ]
  },
  {
   "cell_type": "code",
   "execution_count": 163,
   "metadata": {},
   "outputs": [
    {
     "data": {
      "text/html": [
       "<div>\n",
       "<style scoped>\n",
       "    .dataframe tbody tr th:only-of-type {\n",
       "        vertical-align: middle;\n",
       "    }\n",
       "\n",
       "    .dataframe tbody tr th {\n",
       "        vertical-align: top;\n",
       "    }\n",
       "\n",
       "    .dataframe thead th {\n",
       "        text-align: right;\n",
       "    }\n",
       "</style>\n",
       "<table border=\"1\" class=\"dataframe\">\n",
       "  <thead>\n",
       "    <tr style=\"text-align: right;\">\n",
       "      <th></th>\n",
       "      <th>OPDID</th>\n",
       "      <th>Complaint</th>\n",
       "      <th>Doctor</th>\n",
       "      <th>visit_year</th>\n",
       "      <th>visit_date</th>\n",
       "      <th>refined_rfe</th>\n",
       "    </tr>\n",
       "  </thead>\n",
       "  <tbody>\n",
       "    <tr>\n",
       "      <th>0</th>\n",
       "      <td>1</td>\n",
       "      <td>blood test,</td>\n",
       "      <td>2</td>\n",
       "      <td>2021</td>\n",
       "      <td>2021-08-19</td>\n",
       "      <td>blood test,</td>\n",
       "    </tr>\n",
       "    <tr>\n",
       "      <th>1</th>\n",
       "      <td>2</td>\n",
       "      <td>other laboratory test nec,</td>\n",
       "      <td>2</td>\n",
       "      <td>2021</td>\n",
       "      <td>2021-08-19</td>\n",
       "      <td>cough</td>\n",
       "    </tr>\n",
       "    <tr>\n",
       "      <th>2</th>\n",
       "      <td>3</td>\n",
       "      <td>test</td>\n",
       "      <td>2</td>\n",
       "      <td>2021</td>\n",
       "      <td>2021-08-24</td>\n",
       "      <td>test</td>\n",
       "    </tr>\n",
       "    <tr>\n",
       "      <th>3</th>\n",
       "      <td>4</td>\n",
       "      <td>test</td>\n",
       "      <td>2</td>\n",
       "      <td>2021</td>\n",
       "      <td>2021-09-18</td>\n",
       "      <td>test</td>\n",
       "    </tr>\n",
       "    <tr>\n",
       "      <th>4</th>\n",
       "      <td>5</td>\n",
       "      <td>test</td>\n",
       "      <td>4</td>\n",
       "      <td>2021</td>\n",
       "      <td>2021-11-23</td>\n",
       "      <td>test</td>\n",
       "    </tr>\n",
       "  </tbody>\n",
       "</table>\n",
       "</div>"
      ],
      "text/plain": [
       "   OPDID                   Complaint  Doctor  visit_year  visit_date  \\\n",
       "0      1                 blood test,       2        2021  2021-08-19   \n",
       "1      2  other laboratory test nec,       2        2021  2021-08-19   \n",
       "2      3                        test       2        2021  2021-08-24   \n",
       "3      4                        test       2        2021  2021-09-18   \n",
       "4      5                        test       4        2021  2021-11-23   \n",
       "\n",
       "   refined_rfe  \n",
       "0  blood test,  \n",
       "1        cough  \n",
       "2         test  \n",
       "3         test  \n",
       "4         test  "
      ]
     },
     "execution_count": 163,
     "metadata": {},
     "output_type": "execute_result"
    }
   ],
   "source": [
    "df.head()"
   ]
  },
  {
   "cell_type": "code",
   "execution_count": 164,
   "metadata": {},
   "outputs": [
    {
     "data": {
      "text/plain": [
       "130255"
      ]
     },
     "execution_count": 164,
     "metadata": {},
     "output_type": "execute_result"
    }
   ],
   "source": [
    "# total unique complaints\n",
    "unique_complaints_count = df['Complaint'].nunique()\n",
    "unique_complaints_count"
   ]
  },
  {
   "cell_type": "code",
   "execution_count": 173,
   "metadata": {},
   "outputs": [],
   "source": [
    "# unique complaints\n",
    "unique_complaints_df = df['refined_rfe'].value_counts()\n",
    "\n",
    "unique_complaints_df.to_csv(\"unique_complaints_refined.csv\", index=True)\n"
   ]
  },
  {
   "cell_type": "code",
   "execution_count": null,
   "metadata": {},
   "outputs": [],
   "source": []
  }
 ],
 "metadata": {
  "kernelspec": {
   "display_name": "base",
   "language": "python",
   "name": "python3"
  },
  "language_info": {
   "codemirror_mode": {
    "name": "ipython",
    "version": 3
   },
   "file_extension": ".py",
   "mimetype": "text/x-python",
   "name": "python",
   "nbconvert_exporter": "python",
   "pygments_lexer": "ipython3",
   "version": "3.11.4"
  }
 },
 "nbformat": 4,
 "nbformat_minor": 2
}
