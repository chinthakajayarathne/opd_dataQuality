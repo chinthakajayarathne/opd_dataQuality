{
 "cells": [
  {
   "cell_type": "code",
   "execution_count": 2,
   "metadata": {},
   "outputs": [],
   "source": [
    "import pymysql"
   ]
  },
  {
   "cell_type": "code",
   "execution_count": 3,
   "metadata": {},
   "outputs": [],
   "source": [
    "# Connection parameters\n",
    "host = 'localhost'\n",
    "port = 3307  # Replace with the correct port number\n",
    "user = 'hhims'\n",
    "password = 'JudbGaQLG!7bpJG6'\n",
    "database = 'hhimsv3'\n",
    "\n",
    "# Establish a connection\n",
    "connection = pymysql.connect(\n",
    "    host=host,\n",
    "    port=port,\n",
    "    user=user,\n",
    "    password=password,\n",
    "    database=database\n",
    ")\n",
    "\n",
    "# Connection parameters\n",
    "host = 'localhost'\n",
    "port = 3307  # Replace with the correct port number\n",
    "user = 'hhims'\n",
    "password = 'JudbGaQLG!7bpJG6'\n",
    "database = 'hhimsv3'\n",
    "\n",
    "# Establish a connection\n",
    "connection = pymysql.connect(\n",
    "    host=host,\n",
    "    port=port,\n",
    "    user=user,\n",
    "    password=password,\n",
    "    database=database\n",
    ")\n"
   ]
  },
  {
   "cell_type": "code",
   "execution_count": 4,
   "metadata": {},
   "outputs": [
    {
     "name": "stdout",
     "output_type": "stream",
     "text": [
      "(('Dicom_Exam_Room',), ('Dicom_Modality_Level_01',), ('Dicom_Modality_Level_02',), ('Dicom_Modality_Level_03',), ('Dicom_Order',), ('Dicom_Order_Item',), ('MyHierarchy',), ('PP_Status',), ('admission',), ('admission_diagnosis',), ('admission_diagnosis_ticket',), ('admission_diet_order',), ('admission_diet_order_items',), ('admission_discharge_presciption',), ('admission_discharge_prescribe_items',), ('admission_notes',), ('admission_prescribe_items',), ('admission_prescribe_items_dispense',), ('admission_prescription',), ('admission_procedures',), ('admission_transfer',), ('admission_treatment',), ('admission_visit',), ('api_logs',), ('appointment',), ('appointment_tmp',), ('attachment',), ('attachment_comment',), ('barcode_log',), ('biochem1',), ('birth_registration',), ('canned_text',), ('casualty',), ('casualty_time_map',), ('clinic',), ('clinic_diagram',), ('clinic_discharge',), ('clinic_followup_notes',), ('clinic_number',), ('clinic_patient',), ('clinic_prescribe_items',), ('clinic_prescription',), ('clinic_procedure',), ('clinic_referrals_lrh',), ('clinic_time',), ('clinic_treatment',), ('clinic_visits',), ('code_snomed_gps',), ('code_snomed_gps_cat',), ('code_terminology',), ('complaints',), ('consultant',), ('csvtbl',), ('day_surgery',), ('death_patient',), ('dental_treatment',), ('dhis2_inj_config',), ('dhis2_inj_resource',), ('dicom',), ('dicom_category',), ('dicom_reports',), ('diet_category',), ('diet_item',), ('diet_type',), ('disorder',), ('district',), ('doctor_drug',), ('dose_comment',), ('drug_batch',), ('drug_count',), ('drug_count_log',), ('drug_dose_calc',), ('drug_remove_batch',), ('drug_request',), ('drug_return',), ('drug_stock',), ('drugs',), ('drugs_dosage',), ('drugs_formulation',), ('drugs_frequency',), ('drugs_period',), ('dsd_division',), ('ecg',), ('eimmr_transfer',), ('event',), ('finding',), ('foot_assessment',), ('gapi_status',), ('holidays_lrh',), ('hospital',), ('hospital_message',), ('hospital_poi',), ('icd10',), ('icd10.2016',), ('icd10.orig',), ('icd_icpc',), ('icd_validations_rules',), ('images',), ('immr',), ('injection',), ('injury_activity',), ('injury_alcohol',), ('injury_disability',), ('injury_intent',), ('injury_mechanism',), ('injury_nature',), ('injury_outcome',), ('injury_place',), ('injury_region',), ('injury_substance',), ('injury_surveillance',), ('injury_teritary',), ('injury_time',), ('institution',), ('jmo_referral',), ('jos_forme_data',), ('keys',), ('lab_order',), ('lab_order_items',), ('lab_results',), ('lab_sample_msg',), ('lab_test_department',), ('lab_test_group',), ('lab_tests',), ('labtest_select',), ('lims_analyser',), ('lims_container_types',), ('lims_ext_order',), ('lims_ext_order_item',), ('lims_feedback',), ('lims_ix_sheet',), ('lims_ix_sheet_detail',), ('lims_mapping',), ('lims_multiline',), ('lims_ref_ranges',), ('lims_sample_types',), ('lims_tracking',), ('lims_tracking_def',), ('lis_histograms',), ('manual_lot_balancing',), ('nehr_queue',), ('notification',), ('opd_day_surgery',), ('opd_dental_treatment',), ('opd_followup_notes',), ('opd_notes',), ('opd_presciption',), ('opd_queue',), ('opd_room',), ('opd_room_doctor',), ('opd_treatment',), ('opd_visits',), ('patient',), ('patient_alergy',), ('patient_card',), ('patient_exam',), ('patient_exam_new',), ('patient_history',), ('patient_injection',), ('patient_notes',), ('patient_treatment',), ('permission',), ('pharmacy_counter',), ('phn_merge_hx_lrh',), ('phn_merge_lrh',), ('plastic_surgery',), ('pomr',), ('prescribe_items',), ('procedure_room',), ('procedures',), ('qb_bill',), ('qb_bill_item',), ('qb_conf',), ('qb_consult_fee',), ('qb_drug_cost',), ('qb_lab_cost',), ('qb_opd_procedure_cost',), ('qb_staff_payment',), ('qdisplay_conf',), ('qu_answer',), ('qu_diagram',), ('qu_module',), ('qu_quest_answer',), ('qu_question',), ('qu_question_repos',), ('qu_questionnaire',), ('qu_select',), ('quest_flds_struct',), ('quest_struct',), ('questionnaire',), ('questionnaire_data',), ('rabies_details',), ('rabies_direction',), ('recent_patient',), ('referral_request',), ('rheumatology_adult_still',), ('rheumatology_psoriatic',), ('rheumatology_ra',), ('rheumatology_sle',), ('rheumatology_spa',), ('rotation',), ('rotation_events',), ('trauma_accident_vehicle',), ('trauma_activity_injury',), ('trauma_cause_injury',), ('trauma_occupation',), ('trauma_other_accident',), ('trauma_outcome',), ('trauma_place_injury',), ('trauma_self_inflicted',), ('trauma_surveillance',), ('trauma_transport_patient',), ('trauma_transport_road_user',), ('trauma_violence_cause',), ('trauma_violence_relate',), ('trauma_violence_type',), ('treatment',), ('triage_level',), ('unit_types',), ('units',), ('user',), ('user_chat_message',), ('user_chat_session',), ('user_favour_drug',), ('user_favour_drug_items',), ('user_group',), ('user_level',), ('user_menu',), ('user_post',), ('user_roles',), ('user_speciality',), ('village',), ('visit_type',), ('vw_lab_order_print',), ('vw_lis_order',), ('vw_questionnaire',), ('walk_test',), ('ward',), ('ward_notes',), ('ward_patient_number',), ('who_drug',), ('who_drug_group',), ('workstation_type',), ('xray_region',))\n"
     ]
    }
   ],
   "source": [
    "# show tables\n",
    "cursor = connection.cursor()\n",
    "cursor.execute('SHOW TABLES;')\n",
    "tables = cursor.fetchall()\n",
    "print(tables)"
   ]
  },
  {
   "cell_type": "code",
   "execution_count": 5,
   "metadata": {},
   "outputs": [
    {
     "name": "stdout",
     "output_type": "stream",
     "text": [
      "(('OPDID', 'int(11)', 'NO', 'PRI', None, 'auto_increment'), ('PID', 'int(11)', 'YES', 'MUL', None, ''), ('OLD_OPDID', 'int(11)', 'YES', '', None, ''), ('DateTimeOfVisit', 'datetime', 'YES', '', None, ''), ('OnSetDate', 'date', 'YES', '', None, ''), ('Complaint', 'varchar(200)', 'YES', '', None, ''), ('ICD_Code', 'varchar(10)', 'YES', '', None, ''), ('ICD_Text', 'varchar(200)', 'YES', '', None, ''), ('Doctor', 'int(11)', 'YES', 'MUL', None, ''), ('Remarks', 'varchar(1350)', 'YES', '', None, ''), ('Active', 'tinyint(1)', 'YES', '', '1', ''), ('IsClosed', 'tinyint(1)', 'YES', '', '0', ''), ('CreateDate', 'datetime', 'YES', '', None, ''), ('CreateUser', 'varchar(200)', 'YES', '', None, ''), ('LastUpDate', 'datetime', 'YES', '', None, ''), ('LastUpDateUser', 'varchar(200)', 'YES', '', None, ''), ('isNotify', 'tinyint(1)', 'YES', '', '0', ''), ('VisitType', 'int(20)', 'YES', 'MUL', None, ''), ('O_PID', 'varchar(100)', 'YES', '', None, ''), ('referred_admission_id', 'int(11)', 'YES', 'MUL', None, ''), ('is_refered', 'tinyint(4)', 'NO', '', '0', ''), ('referred_clinic_id', 'int(11)', 'YES', '', None, ''), ('is_refered_clinic', 'tinyint(4)', 'YES', '', '0', ''), ('is_refered_jmo', 'tinyint(4)', 'YES', '', '0', ''), ('ILI', 'varchar(4)', 'YES', '', 'No', ''), ('Cough', 'varchar(100)', 'NO', '', None, ''), ('Pregnant', 'tinyint(4)', 'YES', '', '0', ''), ('Visit_Open_Time', 'datetime', 'YES', '', None, ''), ('PatientWeight', 'float(6,3)', 'YES', '', None, ''), ('is_referred_pcu_opd_as', 'varchar(5)', 'YES', '', None, ''))\n"
     ]
    }
   ],
   "source": [
    "# show columns in opd_visits table\n",
    "cursor = connection.cursor()\n",
    "cursor.execute('SHOW COLUMNS FROM opd_visits;')\n",
    "columns = cursor.fetchall()\n",
    "print(columns)"
   ]
  },
  {
   "cell_type": "code",
   "execution_count": 7,
   "metadata": {},
   "outputs": [],
   "source": [
    "# show top 5 rows in opd_visits table\n",
    "cursor = connection.cursor()\n",
    "df = cursor.execute('SELECT * FROM opd_visits LIMIT 5;')\n",
    "rows = cursor.fetchall()    \n"
   ]
  },
  {
   "cell_type": "code",
   "execution_count": 8,
   "metadata": {},
   "outputs": [
    {
     "data": {
      "text/plain": [
       "5"
      ]
     },
     "execution_count": 8,
     "metadata": {},
     "output_type": "execute_result"
    }
   ],
   "source": [
    "df"
   ]
  },
  {
   "cell_type": "code",
   "execution_count": 9,
   "metadata": {},
   "outputs": [],
   "source": [
    "# Connection parameters\n",
    "host = 'localhost'\n",
    "port = 3307  # Replace with the correct port number\n",
    "user = 'hhims'\n",
    "password = 'JudbGaQLG!7bpJG6'\n",
    "database = 'hhimsv3'\n",
    "\n",
    "# Establish a connection\n",
    "connection = pymysql.connect(\n",
    "    host=host,\n",
    "    port=port,\n",
    "    user=user,\n",
    "    password=password,\n",
    "    database=database\n",
    ")\n",
    "\n",
    "# Connection parameters\n",
    "host = 'localhost'\n",
    "port = 3307  # Replace with the correct port number\n",
    "user = 'hhims'\n",
    "password = 'JudbGaQLG!7bpJG6'\n",
    "database = 'hhimsv3'\n",
    "\n",
    "# Establish a connection\n",
    "connection = pymysql.connect(\n",
    "    host=host,\n",
    "    port=port,\n",
    "    user=user,\n",
    "    password=password,\n",
    "    database=database\n",
    ")\n"
   ]
  },
  {
   "cell_type": "code",
   "execution_count": 11,
   "metadata": {},
   "outputs": [
    {
     "name": "stdout",
     "output_type": "stream",
     "text": [
      "\n",
      "📌 Top 5 rows from opd_patient:\n",
      "(1, 3, None, datetime.datetime(2021, 8, 19, 10, 50, 41), datetime.date(2021, 8, 19), 'Blood test,', None, None, 2, '', 1, 0, datetime.datetime(2021, 8, 19, 10, 51, 3), 'Mr. MOHI ', None, None, 0, 9, None, None, 0, None, 0, 0, 'No', 'No Cough', 0, None, None, None)\n",
      "(2, 1010, None, datetime.datetime(2021, 8, 19, 11, 28, 31), datetime.date(2021, 8, 19), 'Other laboratory test NEC,', None, None, 2, '', 1, 0, datetime.datetime(2021, 8, 19, 11, 29, 8), 'Mr. MOHI ', None, None, 0, 9, None, None, 0, None, 0, 0, 'No', 'No Cough', 0, None, None, None)\n",
      "(3, 13741, None, datetime.datetime(2021, 8, 24, 12, 38, 31), datetime.date(2021, 8, 24), 'test', None, None, 2, '', 1, 0, datetime.datetime(2021, 8, 24, 12, 39, 14), 'Mr. MOHI ', None, None, 0, 9, None, None, 0, None, 0, 0, 'No', 'No Cough', 0, None, None, None)\n",
      "(4, 14623, None, datetime.datetime(2021, 9, 18, 11, 7, 56), datetime.date(2021, 9, 18), 'test', None, None, 2, '', 1, 0, datetime.datetime(2021, 9, 18, 11, 8, 33), 'Mr. MOHI ', None, None, 0, 9, None, None, 0, None, 0, 0, 'No', 'No Cough', 0, None, None, None)\n",
      "(5, 106066, None, datetime.datetime(2021, 11, 23, 12, 17, 30), datetime.date(2021, 11, 23), 'test', None, None, 4, '', 1, 0, datetime.datetime(2021, 11, 23, 12, 17, 36), 'Dr. dr ', None, None, 0, 9, None, None, 0, None, 0, 0, 'No', '', 0, None, None, None)\n"
     ]
    }
   ],
   "source": [
    " # Fetch top 5 rows from opd_patient table\n",
    "with connection.cursor() as cursor:\n",
    "    cursor.execute(\"SELECT * FROM opd_visits LIMIT 5;\")\n",
    "    rows = cursor.fetchall()\n",
    "\n",
    "    print(\"\\n📌 Top 5 rows from opd_patient:\")\n",
    "    for row in rows:\n",
    "        print(row)"
   ]
  },
  {
   "cell_type": "code",
   "execution_count": 12,
   "metadata": {},
   "outputs": [],
   "source": [
    "import pandas as pd\n",
    "df = pd.DataFrame(rows)"
   ]
  },
  {
   "cell_type": "code",
   "execution_count": 13,
   "metadata": {},
   "outputs": [
    {
     "data": {
      "text/html": [
       "<div>\n",
       "<style scoped>\n",
       "    .dataframe tbody tr th:only-of-type {\n",
       "        vertical-align: middle;\n",
       "    }\n",
       "\n",
       "    .dataframe tbody tr th {\n",
       "        vertical-align: top;\n",
       "    }\n",
       "\n",
       "    .dataframe thead th {\n",
       "        text-align: right;\n",
       "    }\n",
       "</style>\n",
       "<table border=\"1\" class=\"dataframe\">\n",
       "  <thead>\n",
       "    <tr style=\"text-align: right;\">\n",
       "      <th></th>\n",
       "      <th>0</th>\n",
       "      <th>1</th>\n",
       "      <th>2</th>\n",
       "      <th>3</th>\n",
       "      <th>4</th>\n",
       "      <th>5</th>\n",
       "      <th>6</th>\n",
       "      <th>7</th>\n",
       "      <th>8</th>\n",
       "      <th>9</th>\n",
       "      <th>...</th>\n",
       "      <th>20</th>\n",
       "      <th>21</th>\n",
       "      <th>22</th>\n",
       "      <th>23</th>\n",
       "      <th>24</th>\n",
       "      <th>25</th>\n",
       "      <th>26</th>\n",
       "      <th>27</th>\n",
       "      <th>28</th>\n",
       "      <th>29</th>\n",
       "    </tr>\n",
       "  </thead>\n",
       "  <tbody>\n",
       "    <tr>\n",
       "      <th>0</th>\n",
       "      <td>1</td>\n",
       "      <td>3</td>\n",
       "      <td>None</td>\n",
       "      <td>2021-08-19 10:50:41</td>\n",
       "      <td>2021-08-19</td>\n",
       "      <td>Blood test,</td>\n",
       "      <td>None</td>\n",
       "      <td>None</td>\n",
       "      <td>2</td>\n",
       "      <td></td>\n",
       "      <td>...</td>\n",
       "      <td>0</td>\n",
       "      <td>None</td>\n",
       "      <td>0</td>\n",
       "      <td>0</td>\n",
       "      <td>No</td>\n",
       "      <td>No Cough</td>\n",
       "      <td>0</td>\n",
       "      <td>None</td>\n",
       "      <td>None</td>\n",
       "      <td>None</td>\n",
       "    </tr>\n",
       "    <tr>\n",
       "      <th>1</th>\n",
       "      <td>2</td>\n",
       "      <td>1010</td>\n",
       "      <td>None</td>\n",
       "      <td>2021-08-19 11:28:31</td>\n",
       "      <td>2021-08-19</td>\n",
       "      <td>Other laboratory test NEC,</td>\n",
       "      <td>None</td>\n",
       "      <td>None</td>\n",
       "      <td>2</td>\n",
       "      <td></td>\n",
       "      <td>...</td>\n",
       "      <td>0</td>\n",
       "      <td>None</td>\n",
       "      <td>0</td>\n",
       "      <td>0</td>\n",
       "      <td>No</td>\n",
       "      <td>No Cough</td>\n",
       "      <td>0</td>\n",
       "      <td>None</td>\n",
       "      <td>None</td>\n",
       "      <td>None</td>\n",
       "    </tr>\n",
       "    <tr>\n",
       "      <th>2</th>\n",
       "      <td>3</td>\n",
       "      <td>13741</td>\n",
       "      <td>None</td>\n",
       "      <td>2021-08-24 12:38:31</td>\n",
       "      <td>2021-08-24</td>\n",
       "      <td>test</td>\n",
       "      <td>None</td>\n",
       "      <td>None</td>\n",
       "      <td>2</td>\n",
       "      <td></td>\n",
       "      <td>...</td>\n",
       "      <td>0</td>\n",
       "      <td>None</td>\n",
       "      <td>0</td>\n",
       "      <td>0</td>\n",
       "      <td>No</td>\n",
       "      <td>No Cough</td>\n",
       "      <td>0</td>\n",
       "      <td>None</td>\n",
       "      <td>None</td>\n",
       "      <td>None</td>\n",
       "    </tr>\n",
       "    <tr>\n",
       "      <th>3</th>\n",
       "      <td>4</td>\n",
       "      <td>14623</td>\n",
       "      <td>None</td>\n",
       "      <td>2021-09-18 11:07:56</td>\n",
       "      <td>2021-09-18</td>\n",
       "      <td>test</td>\n",
       "      <td>None</td>\n",
       "      <td>None</td>\n",
       "      <td>2</td>\n",
       "      <td></td>\n",
       "      <td>...</td>\n",
       "      <td>0</td>\n",
       "      <td>None</td>\n",
       "      <td>0</td>\n",
       "      <td>0</td>\n",
       "      <td>No</td>\n",
       "      <td>No Cough</td>\n",
       "      <td>0</td>\n",
       "      <td>None</td>\n",
       "      <td>None</td>\n",
       "      <td>None</td>\n",
       "    </tr>\n",
       "    <tr>\n",
       "      <th>4</th>\n",
       "      <td>5</td>\n",
       "      <td>106066</td>\n",
       "      <td>None</td>\n",
       "      <td>2021-11-23 12:17:30</td>\n",
       "      <td>2021-11-23</td>\n",
       "      <td>test</td>\n",
       "      <td>None</td>\n",
       "      <td>None</td>\n",
       "      <td>4</td>\n",
       "      <td></td>\n",
       "      <td>...</td>\n",
       "      <td>0</td>\n",
       "      <td>None</td>\n",
       "      <td>0</td>\n",
       "      <td>0</td>\n",
       "      <td>No</td>\n",
       "      <td></td>\n",
       "      <td>0</td>\n",
       "      <td>None</td>\n",
       "      <td>None</td>\n",
       "      <td>None</td>\n",
       "    </tr>\n",
       "  </tbody>\n",
       "</table>\n",
       "<p>5 rows × 30 columns</p>\n",
       "</div>"
      ],
      "text/plain": [
       "   0       1     2                   3           4   \\\n",
       "0   1       3  None 2021-08-19 10:50:41  2021-08-19   \n",
       "1   2    1010  None 2021-08-19 11:28:31  2021-08-19   \n",
       "2   3   13741  None 2021-08-24 12:38:31  2021-08-24   \n",
       "3   4   14623  None 2021-09-18 11:07:56  2021-09-18   \n",
       "4   5  106066  None 2021-11-23 12:17:30  2021-11-23   \n",
       "\n",
       "                           5     6     7   8  9   ...  20    21 22 23  24  \\\n",
       "0                 Blood test,  None  None   2     ...   0  None  0  0  No   \n",
       "1  Other laboratory test NEC,  None  None   2     ...   0  None  0  0  No   \n",
       "2                        test  None  None   2     ...   0  None  0  0  No   \n",
       "3                        test  None  None   2     ...   0  None  0  0  No   \n",
       "4                        test  None  None   4     ...   0  None  0  0  No   \n",
       "\n",
       "         25  26    27    28    29  \n",
       "0  No Cough   0  None  None  None  \n",
       "1  No Cough   0  None  None  None  \n",
       "2  No Cough   0  None  None  None  \n",
       "3  No Cough   0  None  None  None  \n",
       "4             0  None  None  None  \n",
       "\n",
       "[5 rows x 30 columns]"
      ]
     },
     "execution_count": 13,
     "metadata": {},
     "output_type": "execute_result"
    }
   ],
   "source": [
    "df"
   ]
  },
  {
   "cell_type": "code",
   "execution_count": 14,
   "metadata": {},
   "outputs": [
    {
     "name": "stdout",
     "output_type": "stream",
     "text": [
      "<class 'pandas.core.frame.DataFrame'>\n",
      "RangeIndex: 5 entries, 0 to 4\n",
      "Data columns (total 30 columns):\n",
      " #   Column  Non-Null Count  Dtype         \n",
      "---  ------  --------------  -----         \n",
      " 0   0       5 non-null      int64         \n",
      " 1   1       5 non-null      int64         \n",
      " 2   2       0 non-null      object        \n",
      " 3   3       5 non-null      datetime64[ns]\n",
      " 4   4       5 non-null      object        \n",
      " 5   5       5 non-null      object        \n",
      " 6   6       0 non-null      object        \n",
      " 7   7       0 non-null      object        \n",
      " 8   8       5 non-null      int64         \n",
      " 9   9       5 non-null      object        \n",
      " 10  10      5 non-null      int64         \n",
      " 11  11      5 non-null      int64         \n",
      " 12  12      5 non-null      datetime64[ns]\n",
      " 13  13      5 non-null      object        \n",
      " 14  14      0 non-null      object        \n",
      " 15  15      0 non-null      object        \n",
      " 16  16      5 non-null      int64         \n",
      " 17  17      5 non-null      int64         \n",
      " 18  18      0 non-null      object        \n",
      " 19  19      0 non-null      object        \n",
      " 20  20      5 non-null      int64         \n",
      " 21  21      0 non-null      object        \n",
      " 22  22      5 non-null      int64         \n",
      " 23  23      5 non-null      int64         \n",
      " 24  24      5 non-null      object        \n",
      " 25  25      5 non-null      object        \n",
      " 26  26      5 non-null      int64         \n",
      " 27  27      0 non-null      object        \n",
      " 28  28      0 non-null      object        \n",
      " 29  29      0 non-null      object        \n",
      "dtypes: datetime64[ns](2), int64(11), object(17)\n",
      "memory usage: 1.3+ KB\n"
     ]
    }
   ],
   "source": [
    "df.info()"
   ]
  },
  {
   "cell_type": "code",
   "execution_count": null,
   "metadata": {},
   "outputs": [],
   "source": []
  }
 ],
 "metadata": {
  "kernelspec": {
   "display_name": "base",
   "language": "python",
   "name": "python3"
  },
  "language_info": {
   "codemirror_mode": {
    "name": "ipython",
    "version": 3
   },
   "file_extension": ".py",
   "mimetype": "text/x-python",
   "name": "python",
   "nbconvert_exporter": "python",
   "pygments_lexer": "ipython3",
   "version": "3.11.4"
  }
 },
 "nbformat": 4,
 "nbformat_minor": 2
}
